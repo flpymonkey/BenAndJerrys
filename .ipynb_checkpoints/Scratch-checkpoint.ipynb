{
 "cells": [
  {
   "cell_type": "code",
   "execution_count": 50,
   "id": "560b86ae-aa25-4497-be69-b147671b0fb9",
   "metadata": {},
   "outputs": [
    {
     "name": "stdout",
     "output_type": "stream",
     "text": [
      "Common columns: {'Name', 'ID', 'Age'}\n",
      "Columns unique to file1.csv: {'City'}\n",
      "Columns unique to file2.csv: {'Country'}\n",
      "Column 'Name' has different values in the files.\n",
      "Column 'ID' has different values in the files.\n",
      "Column 'Age' has different values in the files.\n"
     ]
    }
   ],
   "source": [
    "import pandas as pd\n",
    "\n",
    "# Load the CSV files into DataFrames\n",
    "df1 = pd.read_csv('file1.csv')\n",
    "df2 = pd.read_csv('file2.csv')\n",
    "\n",
    "# Compare column names\n",
    "common_columns = set(df1.columns).intersection(set(df2.columns))\n",
    "unique_to_df1 = set(df1.columns) - set(df2.columns)\n",
    "unique_to_df2 = set(df2.columns) - set(df1.columns)\n",
    "\n",
    "print(\"Common columns:\", common_columns)\n",
    "print(\"Columns unique to file1.csv:\", unique_to_df1)\n",
    "print(\"Columns unique to file2.csv:\", unique_to_df2)\n",
    "\n",
    "# Compare values in common columns\n",
    "for column in common_columns:\n",
    "    if df1[column].equals(df2[column]):\n",
    "        print(f\"Column '{column}' has identical values in both files.\")\n",
    "    else:\n",
    "        print(f\"Column '{column}' has different values in the files.\")\n",
    "\n",
    "# Example of inferring key relationships\n",
    "# Assuming 'id' is a common key column\n",
    "if 'id' in common_columns:\n",
    "    merged_df = pd.merge(df1, df2, on='id', suffixes=('_file1', '_file2'))\n",
    "    print(merged_df.head())\n"
   ]
  },
  {
   "cell_type": "code",
   "execution_count": 57,
   "id": "5c321890-7d4e-4def-aea5-7c1e9fb15dc1",
   "metadata": {},
   "outputs": [
    {
     "name": "stdout",
     "output_type": "stream",
     "text": [
      "Potential keys: ['Name', 'ID', 'Age']\n",
      "The similarity between ID and ID is: 0.43\n",
      "The similarity between ID and Name is: 0.00\n",
      "The similarity between ID and Age is: 0.00\n",
      "The similarity between ID and Country is: 0.00\n",
      "The similarity between Name and ID is: 0.00\n",
      "The similarity between Name and Name is: 0.43\n",
      "The similarity between Name and Age is: 0.00\n",
      "The similarity between Name and Country is: 0.00\n",
      "The similarity between Age and ID is: 0.00\n",
      "The similarity between Age and Name is: 0.00\n",
      "The similarity between Age and Age is: 0.43\n",
      "The similarity between Age and Country is: 0.00\n",
      "The similarity between City and ID is: 0.00\n",
      "The similarity between City and Name is: 0.00\n",
      "The similarity between City and Age is: 0.00\n",
      "The similarity between City and Country is: 0.00\n"
     ]
    }
   ],
   "source": [
    "# Example: Checking for unique identifiers\n",
    "potential_keys = []\n",
    "for column in common_columns:\n",
    "    if df1[column].is_unique and df2[column].is_unique:\n",
    "        potential_keys.append(column)\n",
    "\n",
    "print(\"Potential keys:\", potential_keys)\n",
    "\n",
    "\n",
    "# Check for similarity between columns\n",
    "def jaccard_similarity(set1, set2):\n",
    "    # Calculate the intersection of two sets\n",
    "    intersection = set1.intersection(set2)\n",
    "    \n",
    "    # Calculate the union of two sets\n",
    "    union = set1.union(set2)\n",
    "    \n",
    "    # Calculate the similarity as the ratio of intersection to union\n",
    "    similarity = len(intersection) / len(union)\n",
    "    \n",
    "    return similarity\n",
    "\n",
    "for col in df1.columns:\n",
    "    unique_values1 = set(df1[col])\n",
    "    for col2 in df2.columns:\n",
    "        unique_values2 = set(df2[col2])\n",
    "\n",
    "        # Calculate and print the similarity between the example sets\n",
    "        similarity = jaccard_similarity(unique_values1, unique_values2)\n",
    "        print(f\"The similarity between {col} and {col2} is: {similarity:.2f}\")\n",
    "\n"
   ]
  },
  {
   "cell_type": "code",
   "execution_count": 60,
   "id": "ec3f7e59-9e43-4fb7-bc30-bf9b266f901c",
   "metadata": {},
   "outputs": [
    {
     "name": "stdout",
     "output_type": "stream",
     "text": [
      "The directional similarity between ID and ID is: 1.00\n",
      "The directional similarity between ID and Name is: 0.00\n",
      "The directional similarity between ID and Age is: 0.00\n",
      "The directional similarity between Name and ID is: 0.00\n",
      "The directional similarity between Name and Name is: 1.00\n",
      "The directional similarity between Name and Age is: 0.00\n",
      "The directional similarity between Age and ID is: 0.00\n",
      "The directional similarity between Age and Name is: 0.00\n",
      "The directional similarity between Age and Age is: 1.00\n",
      "The directional similarity between City and ID is: 0.00\n",
      "The directional similarity between City and Name is: 0.00\n",
      "The directional similarity between City and Age is: 0.00\n"
     ]
    }
   ],
   "source": [
    "# Check for similarity between columns\n",
    "def direction_similarity(set1, set2):\n",
    "    common_elements = set1 & set2\n",
    "\n",
    "    # Count the number of common elements\n",
    "    count_common_elements = len(common_elements)\n",
    "    \n",
    "    # Calculate the similarity as the ratio of intersection to union\n",
    "    similarity = count_common_elements / len(set1)\n",
    "    \n",
    "    return similarity\n",
    "\n",
    "df1 = pd.read_csv('file1.csv')\n",
    "df3 = pd.read_csv('file3.csv')\n",
    "# df1 = pd.read_csv('file3.csv')\n",
    "# df3 = pd.read_csv('file1.csv')\n",
    "\n",
    "for col in df1.columns:\n",
    "    unique_values1 = set(df1[col])\n",
    "    for col2 in df3.columns:\n",
    "        unique_values2 = set(df3[col2])\n",
    "\n",
    "        # Calculate and print the similarity between the example sets\n",
    "        similarity = direction_similarity(unique_values1, unique_values2)\n",
    "        print(f\"The directional similarity between {col} and {col2} is: {similarity:.2f}\")\n"
   ]
  },
  {
   "cell_type": "code",
   "execution_count": null,
   "id": "75c4db8a-d39f-4ae2-86b7-36052c4d2032",
   "metadata": {},
   "outputs": [],
   "source": [
    "potential_keys = []\n",
    "for column in common_columns:\n",
    "    if df1[column].is_unique and df2[column].is_unique:\n",
    "        potential_keys.append(column)\n",
    "\n",
    "print(\"Potential keys:\", potential_keys)\n",
    "\n",
    "\n",
    "# Check for similarity between columns\n",
    "def jaccard_similarity(set1, set2):\n",
    "    # Calculate the intersection of two sets\n",
    "    intersection = set1.intersection(set2)\n",
    "    \n",
    "    # Calculate the union of two sets\n",
    "    union = set1.union(set2)\n",
    "    \n",
    "    # Calculate the similarity as the ratio of intersection to union\n",
    "    similarity = len(intersection) / len(union)\n",
    "    \n",
    "    return similarity\n",
    "\n",
    "for col in df1.columns:\n",
    "    unique_values1 = set(df1[col])\n",
    "    for col2 in df2.columns:\n",
    "        unique_values2 = set(df2[col2])\n",
    "\n",
    "        # Calculate and print the similarity between the example sets\n",
    "        similarity = jaccard_similarity(unique_values1, unique_values2)\n",
    "        print(f\"The similarity between {col} and {col2} is: {similarity:.2f}\")\n"
   ]
  },
  {
   "cell_type": "markdown",
   "id": "57f3c35c-a4be-4e82-839f-2295b3d91138",
   "metadata": {},
   "source": [
    "# Look at the wharf coefficent between two columns"
   ]
  },
  {
   "cell_type": "code",
   "execution_count": 46,
   "id": "7bb2848a-3df2-4fb4-882b-f8ace32d9fad",
   "metadata": {},
   "outputs": [
    {
     "name": "stdout",
     "output_type": "stream",
     "text": [
      "  Col1     Col2  counts\n",
      "0    A  Charlie       2\n",
      "1    B      Eve       2\n",
      "2    C    Grace       1\n"
     ]
    },
    {
     "data": {
      "text/plain": [
       "1.0"
      ]
     },
     "execution_count": 46,
     "metadata": {},
     "output_type": "execute_result"
    }
   ],
   "source": [
    "\n",
    "\n",
    "df3 = pd.read_csv('test_relation2.csv')\n",
    "\n",
    "counts = df3.groupby(['Col1', 'Col2']).size().reset_index(name='counts')\n",
    "\n",
    "print(counts.head())\n",
    "\n",
    "max_counts = counts.loc[counts.groupby('Col1')['counts'].idxmax()]\n",
    "\n",
    "max_counts.head()\n",
    "\n",
    "w = max_counts['counts'].sum()/df3.shape[0]\n",
    "\n",
    "w"
   ]
  },
  {
   "cell_type": "code",
   "execution_count": 47,
   "id": "d9a416e2-a942-487e-afd6-452bd736783f",
   "metadata": {},
   "outputs": [
    {
     "name": "stdout",
     "output_type": "stream",
     "text": [
      "  Col1     Col2  counts\n",
      "0    A  Charlie       2\n",
      "1    B  Charlie       1\n",
      "2    B      Eve       2\n",
      "3    C    Grace       1\n"
     ]
    },
    {
     "data": {
      "text/plain": [
       "0.8333333333333334"
      ]
     },
     "execution_count": 47,
     "metadata": {},
     "output_type": "execute_result"
    }
   ],
   "source": [
    "df3 = pd.read_csv('test_relation.csv')\n",
    "\n",
    "counts = df3.groupby(['Col1', 'Col2']).size().reset_index(name='counts')\n",
    "\n",
    "print(counts.head())\n",
    "\n",
    "max_counts = counts.loc[counts.groupby('Col1')['counts'].idxmax()]\n",
    "\n",
    "max_counts.head()\n",
    "\n",
    "w = max_counts['counts'].sum()/df3.shape[0]\n",
    "\n",
    "w"
   ]
  },
  {
   "cell_type": "code",
   "execution_count": null,
   "id": "a443059b-de6d-49d7-a107-05bb768e3e80",
   "metadata": {},
   "outputs": [],
   "source": []
  },
  {
   "cell_type": "code",
   "execution_count": 48,
   "id": "b66683f7-cf10-4fb3-b2bf-d269f80c16d9",
   "metadata": {},
   "outputs": [
    {
     "name": "stdout",
     "output_type": "stream",
     "text": [
      "The similarity between the sets is: 0.25\n"
     ]
    }
   ],
   "source": []
  },
  {
   "cell_type": "code",
   "execution_count": null,
   "id": "29145448-392b-45e0-87fc-df44abba260a",
   "metadata": {},
   "outputs": [],
   "source": []
  }
 ],
 "metadata": {
  "kernelspec": {
   "display_name": "Python 3 (ipykernel)",
   "language": "python",
   "name": "python3"
  },
  "language_info": {
   "codemirror_mode": {
    "name": "ipython",
    "version": 3
   },
   "file_extension": ".py",
   "mimetype": "text/x-python",
   "name": "python",
   "nbconvert_exporter": "python",
   "pygments_lexer": "ipython3",
   "version": "3.10.0"
  }
 },
 "nbformat": 4,
 "nbformat_minor": 5
}
