{
 "cells": [
  {
   "cell_type": "code",
   "execution_count": 1,
   "id": "560b86ae-aa25-4497-be69-b147671b0fb9",
   "metadata": {},
   "outputs": [
    {
     "name": "stdout",
     "output_type": "stream",
     "text": [
      "Common columns: {'Age', 'Name', 'ID'}\n",
      "Columns unique to file1.csv: {'City'}\n",
      "Columns unique to file2.csv: {'Country'}\n",
      "Column 'Age' has different values in the files.\n",
      "Column 'Name' has different values in the files.\n",
      "Column 'ID' has different values in the files.\n"
     ]
    }
   ],
   "source": [
    "import pandas as pd\n",
    "\n",
    "# Load the CSV files into DataFrames\n",
    "df1 = pd.read_csv('datasets/file1.csv')\n",
    "df2 = pd.read_csv('datasets/file2.csv')\n",
    "\n",
    "# Compare column names\n",
    "common_columns = set(df1.columns).intersection(set(df2.columns))\n",
    "unique_to_df1 = set(df1.columns) - set(df2.columns)\n",
    "unique_to_df2 = set(df2.columns) - set(df1.columns)\n",
    "\n",
    "print(\"Common columns:\", common_columns)\n",
    "print(\"Columns unique to file1.csv:\", unique_to_df1)\n",
    "print(\"Columns unique to file2.csv:\", unique_to_df2)\n",
    "\n",
    "# Compare values in common columns\n",
    "for column in common_columns:\n",
    "    if df1[column].equals(df2[column]):\n",
    "        print(f\"Column '{column}' has identical values in both files.\")\n",
    "    else:\n",
    "        print(f\"Column '{column}' has different values in the files.\")\n",
    "\n",
    "# Example of inferring key relationships\n",
    "# Assuming 'id' is a common key column\n",
    "if 'id' in common_columns:\n",
    "    merged_df = pd.merge(df1, df2, on='id', suffixes=('_file1', '_file2'))\n",
    "    print(merged_df.head())\n"
   ]
  },
  {
   "cell_type": "code",
   "execution_count": 2,
   "id": "5c321890-7d4e-4def-aea5-7c1e9fb15dc1",
   "metadata": {},
   "outputs": [
    {
     "name": "stdout",
     "output_type": "stream",
     "text": [
      "Potential keys: ['Age', 'Name', 'ID']\n",
      "The similarity between ID and ID is: 0.43\n",
      "The similarity between ID and Name is: 0.00\n",
      "The similarity between ID and Age is: 0.00\n",
      "The similarity between ID and Country is: 0.00\n",
      "The similarity between Name and ID is: 0.00\n",
      "The similarity between Name and Name is: 0.43\n",
      "The similarity between Name and Age is: 0.00\n",
      "The similarity between Name and Country is: 0.00\n",
      "The similarity between Age and ID is: 0.00\n",
      "The similarity between Age and Name is: 0.00\n",
      "The similarity between Age and Age is: 0.43\n",
      "The similarity between Age and Country is: 0.00\n",
      "The similarity between City and ID is: 0.00\n",
      "The similarity between City and Name is: 0.00\n",
      "The similarity between City and Age is: 0.00\n",
      "The similarity between City and Country is: 0.00\n"
     ]
    }
   ],
   "source": [
    "# Example: Checking for unique identifiers\n",
    "potential_keys = []\n",
    "for column in common_columns:\n",
    "    if df1[column].is_unique and df2[column].is_unique:\n",
    "        potential_keys.append(column)\n",
    "\n",
    "print(\"Potential keys:\", potential_keys)\n",
    "\n",
    "\n",
    "# Check for similarity between columns\n",
    "def jaccard_similarity(set1, set2):\n",
    "    # Calculate the intersection of two sets\n",
    "    intersection = set1.intersection(set2)\n",
    "    \n",
    "    # Calculate the union of two sets\n",
    "    union = set1.union(set2)\n",
    "    \n",
    "    # Calculate the similarity as the ratio of intersection to union\n",
    "    similarity = len(intersection) / len(union)\n",
    "    \n",
    "    return similarity\n",
    "\n",
    "for col in df1.columns:\n",
    "    unique_values1 = set(df1[col])\n",
    "    for col2 in df2.columns:\n",
    "        unique_values2 = set(df2[col2])\n",
    "\n",
    "        # Calculate and print the similarity between the example sets\n",
    "        similarity = jaccard_similarity(unique_values1, unique_values2)\n",
    "        print(f\"The similarity between {col} and {col2} is: {similarity:.2f}\")\n",
    "\n"
   ]
  },
  {
   "cell_type": "code",
   "execution_count": 3,
   "id": "ec3f7e59-9e43-4fb7-bc30-bf9b266f901c",
   "metadata": {},
   "outputs": [
    {
     "name": "stdout",
     "output_type": "stream",
     "text": [
      "The directional similarity between ID and ID is: 1.00\n",
      "The directional similarity between ID and Name is: 0.00\n",
      "The directional similarity between ID and Age is: 0.00\n",
      "The directional similarity between Name and ID is: 0.00\n",
      "The directional similarity between Name and Name is: 1.00\n",
      "The directional similarity between Name and Age is: 0.00\n",
      "The directional similarity between Age and ID is: 0.00\n",
      "The directional similarity between Age and Name is: 0.00\n",
      "The directional similarity between Age and Age is: 1.00\n",
      "The directional similarity between City and ID is: 0.00\n",
      "The directional similarity between City and Name is: 0.00\n",
      "The directional similarity between City and Age is: 0.00\n"
     ]
    }
   ],
   "source": [
    "# Check for similarity between columns\n",
    "def direction_similarity(set1, set2):\n",
    "    common_elements = set1 & set2\n",
    "\n",
    "    # Count the number of common elements\n",
    "    count_common_elements = len(common_elements)\n",
    "    \n",
    "    # Calculate the similarity as the ratio of intersection to union\n",
    "    similarity = count_common_elements / len(set1)\n",
    "    \n",
    "    return similarity\n",
    "\n",
    "df1 = pd.read_csv('datasets/file1.csv')\n",
    "df3 = pd.read_csv('datasets/file3.csv')\n",
    "# df1 = pd.read_csv('file3.csv')\n",
    "# df3 = pd.read_csv('file1.csv')\n",
    "\n",
    "for col in df1.columns:\n",
    "    unique_values1 = set(df1[col])\n",
    "    for col2 in df3.columns:\n",
    "        unique_values2 = set(df3[col2])\n",
    "\n",
    "        # Calculate and print the similarity between the example sets\n",
    "        similarity = direction_similarity(unique_values1, unique_values2)\n",
    "        print(f\"The directional similarity between {col} and {col2} is: {similarity:.2f}\")\n"
   ]
  },
  {
   "cell_type": "code",
   "execution_count": 4,
   "id": "75c4db8a-d39f-4ae2-86b7-36052c4d2032",
   "metadata": {},
   "outputs": [
    {
     "name": "stdout",
     "output_type": "stream",
     "text": [
      "Potential keys: ['Age', 'Name', 'ID']\n",
      "The similarity between ID and ID is: 0.43\n",
      "The similarity between ID and Name is: 0.00\n",
      "The similarity between ID and Age is: 0.00\n",
      "The similarity between ID and Country is: 0.00\n",
      "The similarity between Name and ID is: 0.00\n",
      "The similarity between Name and Name is: 0.43\n",
      "The similarity between Name and Age is: 0.00\n",
      "The similarity between Name and Country is: 0.00\n",
      "The similarity between Age and ID is: 0.00\n",
      "The similarity between Age and Name is: 0.00\n",
      "The similarity between Age and Age is: 0.43\n",
      "The similarity between Age and Country is: 0.00\n",
      "The similarity between City and ID is: 0.00\n",
      "The similarity between City and Name is: 0.00\n",
      "The similarity between City and Age is: 0.00\n",
      "The similarity between City and Country is: 0.00\n"
     ]
    }
   ],
   "source": [
    "potential_keys = []\n",
    "for column in common_columns:\n",
    "    if df1[column].is_unique and df2[column].is_unique:\n",
    "        potential_keys.append(column)\n",
    "\n",
    "print(\"Potential keys:\", potential_keys)\n",
    "\n",
    "\n",
    "# Check for similarity between columns\n",
    "def jaccard_similarity(set1, set2):\n",
    "    # Calculate the intersection of two sets\n",
    "    intersection = set1.intersection(set2)\n",
    "    \n",
    "    # Calculate the union of two sets\n",
    "    union = set1.union(set2)\n",
    "    \n",
    "    # Calculate the similarity as the ratio of intersection to union\n",
    "    similarity = len(intersection) / len(union)\n",
    "    \n",
    "    return similarity\n",
    "\n",
    "for col in df1.columns:\n",
    "    unique_values1 = set(df1[col])\n",
    "    for col2 in df2.columns:\n",
    "        unique_values2 = set(df2[col2])\n",
    "\n",
    "        # Calculate and print the similarity between the example sets\n",
    "        similarity = jaccard_similarity(unique_values1, unique_values2)\n",
    "        print(f\"The similarity between {col} and {col2} is: {similarity:.2f}\")\n"
   ]
  },
  {
   "cell_type": "markdown",
   "id": "57f3c35c-a4be-4e82-839f-2295b3d91138",
   "metadata": {},
   "source": [
    "# Look at the wharf coefficent between two columns"
   ]
  },
  {
   "cell_type": "code",
   "execution_count": 5,
   "id": "7bb2848a-3df2-4fb4-882b-f8ace32d9fad",
   "metadata": {},
   "outputs": [
    {
     "name": "stdout",
     "output_type": "stream",
     "text": [
      "  Col1     Col2  counts\n",
      "0    A  Charlie       2\n",
      "1    B      Eve       2\n",
      "2    C    Grace       1\n"
     ]
    },
    {
     "data": {
      "text/plain": [
       "1.0"
      ]
     },
     "execution_count": 5,
     "metadata": {},
     "output_type": "execute_result"
    }
   ],
   "source": [
    "\n",
    "\n",
    "df3 = pd.read_csv('datasets/test_relation2.csv')\n",
    "\n",
    "counts = df3.groupby(['Col1', 'Col2']).size().reset_index(name='counts')\n",
    "\n",
    "print(counts.head())\n",
    "\n",
    "max_counts = counts.loc[counts.groupby('Col1')['counts'].idxmax()]\n",
    "\n",
    "max_counts.head()\n",
    "\n",
    "w = max_counts['counts'].sum()/df3.shape[0]\n",
    "\n",
    "w"
   ]
  },
  {
   "cell_type": "code",
   "execution_count": 6,
   "id": "d9a416e2-a942-487e-afd6-452bd736783f",
   "metadata": {},
   "outputs": [
    {
     "name": "stdout",
     "output_type": "stream",
     "text": [
      "  Col1     Col2  counts\n",
      "0    A  Charlie       2\n",
      "1    B  Charlie       1\n",
      "2    B      Eve       2\n",
      "3    C    Grace       1\n"
     ]
    },
    {
     "data": {
      "text/plain": [
       "0.8333333333333334"
      ]
     },
     "execution_count": 6,
     "metadata": {},
     "output_type": "execute_result"
    }
   ],
   "source": [
    "df3 = pd.read_csv('datasets/test_relation.csv')\n",
    "\n",
    "counts = df3.groupby(['Col1', 'Col2']).size().reset_index(name='counts')\n",
    "\n",
    "print(counts.head())\n",
    "\n",
    "max_counts = counts.loc[counts.groupby('Col1')['counts'].idxmax()]\n",
    "\n",
    "max_counts.head()\n",
    "\n",
    "w = max_counts['counts'].sum()/df3.shape[0]\n",
    "\n",
    "w"
   ]
  },
  {
   "cell_type": "code",
   "execution_count": null,
   "id": "a443059b-de6d-49d7-a107-05bb768e3e80",
   "metadata": {},
   "outputs": [],
   "source": []
  },
  {
   "cell_type": "code",
   "execution_count": null,
   "id": "b66683f7-cf10-4fb3-b2bf-d269f80c16d9",
   "metadata": {},
   "outputs": [],
   "source": []
  },
  {
   "cell_type": "code",
   "execution_count": 9,
   "id": "29145448-392b-45e0-87fc-df44abba260a",
   "metadata": {},
   "outputs": [
    {
     "ename": "FileNotFoundError",
     "evalue": "[Errno 2] No such file or directory: 'datasets/users_202409010008.csv.csv'",
     "output_type": "error",
     "traceback": [
      "\u001b[1;31m---------------------------------------------------------------------------\u001b[0m",
      "\u001b[1;31mFileNotFoundError\u001b[0m                         Traceback (most recent call last)",
      "Cell \u001b[1;32mIn[9], line 1\u001b[0m\n\u001b[1;32m----> 1\u001b[0m df_users \u001b[38;5;241m=\u001b[39m \u001b[43mpd\u001b[49m\u001b[38;5;241;43m.\u001b[39;49m\u001b[43mread_csv\u001b[49m\u001b[43m(\u001b[49m\u001b[38;5;124;43m'\u001b[39;49m\u001b[38;5;124;43mdatasets/users_202409010008.csv.csv\u001b[39;49m\u001b[38;5;124;43m'\u001b[39;49m\u001b[43m)\u001b[49m\n\u001b[0;32m      3\u001b[0m df_users\u001b[38;5;241m.\u001b[39mhead()\n",
      "File \u001b[1;32mC:\\Python310\\lib\\site-packages\\pandas\\io\\parsers\\readers.py:912\u001b[0m, in \u001b[0;36mread_csv\u001b[1;34m(filepath_or_buffer, sep, delimiter, header, names, index_col, usecols, dtype, engine, converters, true_values, false_values, skipinitialspace, skiprows, skipfooter, nrows, na_values, keep_default_na, na_filter, verbose, skip_blank_lines, parse_dates, infer_datetime_format, keep_date_col, date_parser, date_format, dayfirst, cache_dates, iterator, chunksize, compression, thousands, decimal, lineterminator, quotechar, quoting, doublequote, escapechar, comment, encoding, encoding_errors, dialect, on_bad_lines, delim_whitespace, low_memory, memory_map, float_precision, storage_options, dtype_backend)\u001b[0m\n\u001b[0;32m    899\u001b[0m kwds_defaults \u001b[38;5;241m=\u001b[39m _refine_defaults_read(\n\u001b[0;32m    900\u001b[0m     dialect,\n\u001b[0;32m    901\u001b[0m     delimiter,\n\u001b[1;32m   (...)\u001b[0m\n\u001b[0;32m    908\u001b[0m     dtype_backend\u001b[38;5;241m=\u001b[39mdtype_backend,\n\u001b[0;32m    909\u001b[0m )\n\u001b[0;32m    910\u001b[0m kwds\u001b[38;5;241m.\u001b[39mupdate(kwds_defaults)\n\u001b[1;32m--> 912\u001b[0m \u001b[38;5;28;01mreturn\u001b[39;00m \u001b[43m_read\u001b[49m\u001b[43m(\u001b[49m\u001b[43mfilepath_or_buffer\u001b[49m\u001b[43m,\u001b[49m\u001b[43m \u001b[49m\u001b[43mkwds\u001b[49m\u001b[43m)\u001b[49m\n",
      "File \u001b[1;32mC:\\Python310\\lib\\site-packages\\pandas\\io\\parsers\\readers.py:577\u001b[0m, in \u001b[0;36m_read\u001b[1;34m(filepath_or_buffer, kwds)\u001b[0m\n\u001b[0;32m    574\u001b[0m _validate_names(kwds\u001b[38;5;241m.\u001b[39mget(\u001b[38;5;124m\"\u001b[39m\u001b[38;5;124mnames\u001b[39m\u001b[38;5;124m\"\u001b[39m, \u001b[38;5;28;01mNone\u001b[39;00m))\n\u001b[0;32m    576\u001b[0m \u001b[38;5;66;03m# Create the parser.\u001b[39;00m\n\u001b[1;32m--> 577\u001b[0m parser \u001b[38;5;241m=\u001b[39m TextFileReader(filepath_or_buffer, \u001b[38;5;241m*\u001b[39m\u001b[38;5;241m*\u001b[39mkwds)\n\u001b[0;32m    579\u001b[0m \u001b[38;5;28;01mif\u001b[39;00m chunksize \u001b[38;5;129;01mor\u001b[39;00m iterator:\n\u001b[0;32m    580\u001b[0m     \u001b[38;5;28;01mreturn\u001b[39;00m parser\n",
      "File \u001b[1;32mC:\\Python310\\lib\\site-packages\\pandas\\io\\parsers\\readers.py:1407\u001b[0m, in \u001b[0;36mTextFileReader.__init__\u001b[1;34m(self, f, engine, **kwds)\u001b[0m\n\u001b[0;32m   1404\u001b[0m     \u001b[38;5;28mself\u001b[39m\u001b[38;5;241m.\u001b[39moptions[\u001b[38;5;124m\"\u001b[39m\u001b[38;5;124mhas_index_names\u001b[39m\u001b[38;5;124m\"\u001b[39m] \u001b[38;5;241m=\u001b[39m kwds[\u001b[38;5;124m\"\u001b[39m\u001b[38;5;124mhas_index_names\u001b[39m\u001b[38;5;124m\"\u001b[39m]\n\u001b[0;32m   1406\u001b[0m \u001b[38;5;28mself\u001b[39m\u001b[38;5;241m.\u001b[39mhandles: IOHandles \u001b[38;5;241m|\u001b[39m \u001b[38;5;28;01mNone\u001b[39;00m \u001b[38;5;241m=\u001b[39m \u001b[38;5;28;01mNone\u001b[39;00m\n\u001b[1;32m-> 1407\u001b[0m \u001b[38;5;28mself\u001b[39m\u001b[38;5;241m.\u001b[39m_engine \u001b[38;5;241m=\u001b[39m \u001b[38;5;28;43mself\u001b[39;49m\u001b[38;5;241;43m.\u001b[39;49m\u001b[43m_make_engine\u001b[49m\u001b[43m(\u001b[49m\u001b[43mf\u001b[49m\u001b[43m,\u001b[49m\u001b[43m \u001b[49m\u001b[38;5;28;43mself\u001b[39;49m\u001b[38;5;241;43m.\u001b[39;49m\u001b[43mengine\u001b[49m\u001b[43m)\u001b[49m\n",
      "File \u001b[1;32mC:\\Python310\\lib\\site-packages\\pandas\\io\\parsers\\readers.py:1661\u001b[0m, in \u001b[0;36mTextFileReader._make_engine\u001b[1;34m(self, f, engine)\u001b[0m\n\u001b[0;32m   1659\u001b[0m     \u001b[38;5;28;01mif\u001b[39;00m \u001b[38;5;124m\"\u001b[39m\u001b[38;5;124mb\u001b[39m\u001b[38;5;124m\"\u001b[39m \u001b[38;5;129;01mnot\u001b[39;00m \u001b[38;5;129;01min\u001b[39;00m mode:\n\u001b[0;32m   1660\u001b[0m         mode \u001b[38;5;241m+\u001b[39m\u001b[38;5;241m=\u001b[39m \u001b[38;5;124m\"\u001b[39m\u001b[38;5;124mb\u001b[39m\u001b[38;5;124m\"\u001b[39m\n\u001b[1;32m-> 1661\u001b[0m \u001b[38;5;28mself\u001b[39m\u001b[38;5;241m.\u001b[39mhandles \u001b[38;5;241m=\u001b[39m \u001b[43mget_handle\u001b[49m\u001b[43m(\u001b[49m\n\u001b[0;32m   1662\u001b[0m \u001b[43m    \u001b[49m\u001b[43mf\u001b[49m\u001b[43m,\u001b[49m\n\u001b[0;32m   1663\u001b[0m \u001b[43m    \u001b[49m\u001b[43mmode\u001b[49m\u001b[43m,\u001b[49m\n\u001b[0;32m   1664\u001b[0m \u001b[43m    \u001b[49m\u001b[43mencoding\u001b[49m\u001b[38;5;241;43m=\u001b[39;49m\u001b[38;5;28;43mself\u001b[39;49m\u001b[38;5;241;43m.\u001b[39;49m\u001b[43moptions\u001b[49m\u001b[38;5;241;43m.\u001b[39;49m\u001b[43mget\u001b[49m\u001b[43m(\u001b[49m\u001b[38;5;124;43m\"\u001b[39;49m\u001b[38;5;124;43mencoding\u001b[39;49m\u001b[38;5;124;43m\"\u001b[39;49m\u001b[43m,\u001b[49m\u001b[43m \u001b[49m\u001b[38;5;28;43;01mNone\u001b[39;49;00m\u001b[43m)\u001b[49m\u001b[43m,\u001b[49m\n\u001b[0;32m   1665\u001b[0m \u001b[43m    \u001b[49m\u001b[43mcompression\u001b[49m\u001b[38;5;241;43m=\u001b[39;49m\u001b[38;5;28;43mself\u001b[39;49m\u001b[38;5;241;43m.\u001b[39;49m\u001b[43moptions\u001b[49m\u001b[38;5;241;43m.\u001b[39;49m\u001b[43mget\u001b[49m\u001b[43m(\u001b[49m\u001b[38;5;124;43m\"\u001b[39;49m\u001b[38;5;124;43mcompression\u001b[39;49m\u001b[38;5;124;43m\"\u001b[39;49m\u001b[43m,\u001b[49m\u001b[43m \u001b[49m\u001b[38;5;28;43;01mNone\u001b[39;49;00m\u001b[43m)\u001b[49m\u001b[43m,\u001b[49m\n\u001b[0;32m   1666\u001b[0m \u001b[43m    \u001b[49m\u001b[43mmemory_map\u001b[49m\u001b[38;5;241;43m=\u001b[39;49m\u001b[38;5;28;43mself\u001b[39;49m\u001b[38;5;241;43m.\u001b[39;49m\u001b[43moptions\u001b[49m\u001b[38;5;241;43m.\u001b[39;49m\u001b[43mget\u001b[49m\u001b[43m(\u001b[49m\u001b[38;5;124;43m\"\u001b[39;49m\u001b[38;5;124;43mmemory_map\u001b[39;49m\u001b[38;5;124;43m\"\u001b[39;49m\u001b[43m,\u001b[49m\u001b[43m \u001b[49m\u001b[38;5;28;43;01mFalse\u001b[39;49;00m\u001b[43m)\u001b[49m\u001b[43m,\u001b[49m\n\u001b[0;32m   1667\u001b[0m \u001b[43m    \u001b[49m\u001b[43mis_text\u001b[49m\u001b[38;5;241;43m=\u001b[39;49m\u001b[43mis_text\u001b[49m\u001b[43m,\u001b[49m\n\u001b[0;32m   1668\u001b[0m \u001b[43m    \u001b[49m\u001b[43merrors\u001b[49m\u001b[38;5;241;43m=\u001b[39;49m\u001b[38;5;28;43mself\u001b[39;49m\u001b[38;5;241;43m.\u001b[39;49m\u001b[43moptions\u001b[49m\u001b[38;5;241;43m.\u001b[39;49m\u001b[43mget\u001b[49m\u001b[43m(\u001b[49m\u001b[38;5;124;43m\"\u001b[39;49m\u001b[38;5;124;43mencoding_errors\u001b[39;49m\u001b[38;5;124;43m\"\u001b[39;49m\u001b[43m,\u001b[49m\u001b[43m \u001b[49m\u001b[38;5;124;43m\"\u001b[39;49m\u001b[38;5;124;43mstrict\u001b[39;49m\u001b[38;5;124;43m\"\u001b[39;49m\u001b[43m)\u001b[49m\u001b[43m,\u001b[49m\n\u001b[0;32m   1669\u001b[0m \u001b[43m    \u001b[49m\u001b[43mstorage_options\u001b[49m\u001b[38;5;241;43m=\u001b[39;49m\u001b[38;5;28;43mself\u001b[39;49m\u001b[38;5;241;43m.\u001b[39;49m\u001b[43moptions\u001b[49m\u001b[38;5;241;43m.\u001b[39;49m\u001b[43mget\u001b[49m\u001b[43m(\u001b[49m\u001b[38;5;124;43m\"\u001b[39;49m\u001b[38;5;124;43mstorage_options\u001b[39;49m\u001b[38;5;124;43m\"\u001b[39;49m\u001b[43m,\u001b[49m\u001b[43m \u001b[49m\u001b[38;5;28;43;01mNone\u001b[39;49;00m\u001b[43m)\u001b[49m\u001b[43m,\u001b[49m\n\u001b[0;32m   1670\u001b[0m \u001b[43m\u001b[49m\u001b[43m)\u001b[49m\n\u001b[0;32m   1671\u001b[0m \u001b[38;5;28;01massert\u001b[39;00m \u001b[38;5;28mself\u001b[39m\u001b[38;5;241m.\u001b[39mhandles \u001b[38;5;129;01mis\u001b[39;00m \u001b[38;5;129;01mnot\u001b[39;00m \u001b[38;5;28;01mNone\u001b[39;00m\n\u001b[0;32m   1672\u001b[0m f \u001b[38;5;241m=\u001b[39m \u001b[38;5;28mself\u001b[39m\u001b[38;5;241m.\u001b[39mhandles\u001b[38;5;241m.\u001b[39mhandle\n",
      "File \u001b[1;32mC:\\Python310\\lib\\site-packages\\pandas\\io\\common.py:859\u001b[0m, in \u001b[0;36mget_handle\u001b[1;34m(path_or_buf, mode, encoding, compression, memory_map, is_text, errors, storage_options)\u001b[0m\n\u001b[0;32m    854\u001b[0m \u001b[38;5;28;01melif\u001b[39;00m \u001b[38;5;28misinstance\u001b[39m(handle, \u001b[38;5;28mstr\u001b[39m):\n\u001b[0;32m    855\u001b[0m     \u001b[38;5;66;03m# Check whether the filename is to be opened in binary mode.\u001b[39;00m\n\u001b[0;32m    856\u001b[0m     \u001b[38;5;66;03m# Binary mode does not support 'encoding' and 'newline'.\u001b[39;00m\n\u001b[0;32m    857\u001b[0m     \u001b[38;5;28;01mif\u001b[39;00m ioargs\u001b[38;5;241m.\u001b[39mencoding \u001b[38;5;129;01mand\u001b[39;00m \u001b[38;5;124m\"\u001b[39m\u001b[38;5;124mb\u001b[39m\u001b[38;5;124m\"\u001b[39m \u001b[38;5;129;01mnot\u001b[39;00m \u001b[38;5;129;01min\u001b[39;00m ioargs\u001b[38;5;241m.\u001b[39mmode:\n\u001b[0;32m    858\u001b[0m         \u001b[38;5;66;03m# Encoding\u001b[39;00m\n\u001b[1;32m--> 859\u001b[0m         handle \u001b[38;5;241m=\u001b[39m \u001b[38;5;28;43mopen\u001b[39;49m\u001b[43m(\u001b[49m\n\u001b[0;32m    860\u001b[0m \u001b[43m            \u001b[49m\u001b[43mhandle\u001b[49m\u001b[43m,\u001b[49m\n\u001b[0;32m    861\u001b[0m \u001b[43m            \u001b[49m\u001b[43mioargs\u001b[49m\u001b[38;5;241;43m.\u001b[39;49m\u001b[43mmode\u001b[49m\u001b[43m,\u001b[49m\n\u001b[0;32m    862\u001b[0m \u001b[43m            \u001b[49m\u001b[43mencoding\u001b[49m\u001b[38;5;241;43m=\u001b[39;49m\u001b[43mioargs\u001b[49m\u001b[38;5;241;43m.\u001b[39;49m\u001b[43mencoding\u001b[49m\u001b[43m,\u001b[49m\n\u001b[0;32m    863\u001b[0m \u001b[43m            \u001b[49m\u001b[43merrors\u001b[49m\u001b[38;5;241;43m=\u001b[39;49m\u001b[43merrors\u001b[49m\u001b[43m,\u001b[49m\n\u001b[0;32m    864\u001b[0m \u001b[43m            \u001b[49m\u001b[43mnewline\u001b[49m\u001b[38;5;241;43m=\u001b[39;49m\u001b[38;5;124;43m\"\u001b[39;49m\u001b[38;5;124;43m\"\u001b[39;49m\u001b[43m,\u001b[49m\n\u001b[0;32m    865\u001b[0m \u001b[43m        \u001b[49m\u001b[43m)\u001b[49m\n\u001b[0;32m    866\u001b[0m     \u001b[38;5;28;01melse\u001b[39;00m:\n\u001b[0;32m    867\u001b[0m         \u001b[38;5;66;03m# Binary mode\u001b[39;00m\n\u001b[0;32m    868\u001b[0m         handle \u001b[38;5;241m=\u001b[39m \u001b[38;5;28mopen\u001b[39m(handle, ioargs\u001b[38;5;241m.\u001b[39mmode)\n",
      "\u001b[1;31mFileNotFoundError\u001b[0m: [Errno 2] No such file or directory: 'datasets/users_202409010008.csv.csv'"
     ]
    }
   ],
   "source": [
    "df_users = pd.read_csv('datasets/users_202409010008.csv')\n",
    "\n",
    "df_users.head()"
   ]
  },
  {
   "cell_type": "code",
   "execution_count": null,
   "id": "088d02fe-166c-494a-99f7-f527c1025830",
   "metadata": {},
   "outputs": [],
   "source": []
  }
 ],
 "metadata": {
  "kernelspec": {
   "display_name": "Python 3 (ipykernel)",
   "language": "python",
   "name": "python3"
  },
  "language_info": {
   "codemirror_mode": {
    "name": "ipython",
    "version": 3
   },
   "file_extension": ".py",
   "mimetype": "text/x-python",
   "name": "python",
   "nbconvert_exporter": "python",
   "pygments_lexer": "ipython3",
   "version": "3.10.0"
  }
 },
 "nbformat": 4,
 "nbformat_minor": 5
}
