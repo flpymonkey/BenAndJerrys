{
 "cells": [
  {
   "cell_type": "code",
   "execution_count": 8,
   "id": "560b86ae-aa25-4497-be69-b147671b0fb9",
   "metadata": {},
   "outputs": [
    {
     "name": "stdout",
     "output_type": "stream",
     "text": [
      "Common columns: {'ID', 'Name', 'Age'}\n",
      "Columns unique to file1.csv: {'City'}\n",
      "Columns unique to file2.csv: {'Country'}\n",
      "Column 'ID' has different values in the files.\n",
      "Column 'Name' has different values in the files.\n",
      "Column 'Age' has different values in the files.\n"
     ]
    }
   ],
   "source": [
    "import pandas as pd\n",
    "\n",
    "# Load the CSV files into DataFrames\n",
    "df1 = pd.read_csv('datasets/file1.csv')\n",
    "df2 = pd.read_csv('datasets/file2.csv')\n",
    "\n",
    "# Compare column names\n",
    "common_columns = set(df1.columns).intersection(set(df2.columns))\n",
    "unique_to_df1 = set(df1.columns) - set(df2.columns)\n",
    "unique_to_df2 = set(df2.columns) - set(df1.columns)\n",
    "\n",
    "print(\"Common columns:\", common_columns)\n",
    "print(\"Columns unique to file1.csv:\", unique_to_df1)\n",
    "print(\"Columns unique to file2.csv:\", unique_to_df2)\n",
    "\n",
    "# Compare values in common columns\n",
    "for column in common_columns:\n",
    "    if df1[column].equals(df2[column]):\n",
    "        print(f\"Column '{column}' has identical values in both files.\")\n",
    "    else:\n",
    "        print(f\"Column '{column}' has different values in the files.\")\n",
    "\n",
    "# Example of inferring key relationships\n",
    "# Assuming 'id' is a common key column\n",
    "if 'id' in common_columns:\n",
    "    merged_df = pd.merge(df1, df2, on='id', suffixes=('_file1', '_file2'))\n",
    "    print(merged_df.head())\n"
   ]
  },
  {
   "cell_type": "code",
   "execution_count": 29,
   "id": "5c321890-7d4e-4def-aea5-7c1e9fb15dc1",
   "metadata": {},
   "outputs": [
    {
     "name": "stdout",
     "output_type": "stream",
     "text": [
      "Potential keys: ['ID', 'Name', 'Age']\n",
      "The similarity between ID and ID is: 0.43\n",
      "The similarity between ID and Name is: 0.00\n",
      "The similarity between ID and Age is: 0.00\n",
      "The similarity between ID and Country is: 0.00\n",
      "The similarity between Name and ID is: 0.00\n",
      "The similarity between Name and Name is: 0.43\n",
      "The similarity between Name and Age is: 0.00\n",
      "The similarity between Name and Country is: 0.00\n",
      "The similarity between Age and ID is: 0.00\n",
      "The similarity between Age and Name is: 0.00\n",
      "The similarity between Age and Age is: 0.43\n",
      "The similarity between Age and Country is: 0.00\n",
      "The similarity between City and ID is: 0.00\n",
      "The similarity between City and Name is: 0.00\n",
      "The similarity between City and Age is: 0.00\n",
      "The similarity between City and Country is: 0.00\n"
     ]
    }
   ],
   "source": [
    "# Example: Checking for unique identifiers\n",
    "potential_keys = []\n",
    "for column in common_columns:\n",
    "    if df1[column].is_unique and df2[column].is_unique:\n",
    "        potential_keys.append(column)\n",
    "\n",
    "print(\"Potential keys:\", potential_keys)\n",
    "\n",
    "\n",
    "# Check for similarity between columns\n",
    "def jaccard_similarity(set1, set2):\n",
    "    # Calculate the intersection of two sets\n",
    "    intersection = set1.intersection(set2)\n",
    "    \n",
    "    # Calculate the union of two sets\n",
    "    union = set1.union(set2)\n",
    "    \n",
    "    # Calculate the similarity as the ratio of intersection to union\n",
    "    similarity = len(intersection) / len(union)\n",
    "    \n",
    "    return similarity\n",
    "\n",
    "for col in df1.columns:\n",
    "    unique_values1 = set(df1[col])\n",
    "    for col2 in df2.columns:\n",
    "        unique_values2 = set(df2[col2])\n",
    "\n",
    "        # Calculate and print the similarity between the example sets\n",
    "        similarity = jaccard_similarity(unique_values1, unique_values2)\n",
    "        print(f\"The similarity between {col} and {col2} is: {similarity:.2f}\")\n",
    "\n"
   ]
  },
  {
   "cell_type": "code",
   "execution_count": 30,
   "id": "ec3f7e59-9e43-4fb7-bc30-bf9b266f901c",
   "metadata": {},
   "outputs": [
    {
     "name": "stdout",
     "output_type": "stream",
     "text": [
      "The directional similarity between ID and ID is: 1.00\n",
      "The directional similarity between ID and Name is: 0.00\n",
      "The directional similarity between ID and Age is: 0.00\n",
      "The directional similarity between Name and ID is: 0.00\n",
      "The directional similarity between Name and Name is: 1.00\n",
      "The directional similarity between Name and Age is: 0.00\n",
      "The directional similarity between Age and ID is: 0.00\n",
      "The directional similarity between Age and Name is: 0.00\n",
      "The directional similarity between Age and Age is: 1.00\n",
      "The directional similarity between City and ID is: 0.00\n",
      "The directional similarity between City and Name is: 0.00\n",
      "The directional similarity between City and Age is: 0.00\n"
     ]
    }
   ],
   "source": [
    "# Check for similarity between columns\n",
    "def direction_similarity(set1, set2):\n",
    "    common_elements = set1 & set2\n",
    "\n",
    "    # Count the number of common elements\n",
    "    count_common_elements = len(common_elements)\n",
    "    \n",
    "    # Calculate the similarity as the ratio of intersection to union\n",
    "    similarity = count_common_elements / len(set1)\n",
    "    \n",
    "    return similarity\n",
    "\n",
    "df1 = pd.read_csv('datasets/file1.csv')\n",
    "df3 = pd.read_csv('datasets/file3.csv')\n",
    "# df1 = pd.read_csv('file3.csv')\n",
    "# df3 = pd.read_csv('file1.csv')\n",
    "\n",
    "for col in df1.columns:\n",
    "    unique_values1 = set(df1[col])\n",
    "    for col2 in df3.columns:\n",
    "        unique_values2 = set(df3[col2])\n",
    "\n",
    "        # Calculate and print the similarity between the example sets\n",
    "        similarity = direction_similarity(unique_values1, unique_values2)\n",
    "        print(f\"The directional similarity between {col} and {col2} is: {similarity:.2f}\")\n"
   ]
  },
  {
   "cell_type": "code",
   "execution_count": 31,
   "id": "75c4db8a-d39f-4ae2-86b7-36052c4d2032",
   "metadata": {},
   "outputs": [
    {
     "name": "stdout",
     "output_type": "stream",
     "text": [
      "Potential keys: ['ID', 'Name', 'Age']\n",
      "The similarity between ID and ID is: 0.43\n",
      "The similarity between ID and Name is: 0.00\n",
      "The similarity between ID and Age is: 0.00\n",
      "The similarity between ID and Country is: 0.00\n",
      "The similarity between Name and ID is: 0.00\n",
      "The similarity between Name and Name is: 0.43\n",
      "The similarity between Name and Age is: 0.00\n",
      "The similarity between Name and Country is: 0.00\n",
      "The similarity between Age and ID is: 0.00\n",
      "The similarity between Age and Name is: 0.00\n",
      "The similarity between Age and Age is: 0.43\n",
      "The similarity between Age and Country is: 0.00\n",
      "The similarity between City and ID is: 0.00\n",
      "The similarity between City and Name is: 0.00\n",
      "The similarity between City and Age is: 0.00\n",
      "The similarity between City and Country is: 0.00\n"
     ]
    }
   ],
   "source": [
    "potential_keys = []\n",
    "for column in common_columns:\n",
    "    if df1[column].is_unique and df2[column].is_unique:\n",
    "        potential_keys.append(column)\n",
    "\n",
    "print(\"Potential keys:\", potential_keys)\n",
    "\n",
    "\n",
    "# Check for similarity between columns\n",
    "def jaccard_similarity(set1, set2):\n",
    "    # Calculate the intersection of two sets\n",
    "    intersection = set1.intersection(set2)\n",
    "    \n",
    "    # Calculate the union of two sets\n",
    "    union = set1.union(set2)\n",
    "    \n",
    "    # Calculate the similarity as the ratio of intersection to union\n",
    "    similarity = len(intersection) / len(union)\n",
    "    \n",
    "    return similarity\n",
    "\n",
    "for col in df1.columns:\n",
    "    unique_values1 = set(df1[col])\n",
    "    for col2 in df2.columns:\n",
    "        unique_values2 = set(df2[col2])\n",
    "\n",
    "        # Calculate and print the similarity between the example sets\n",
    "        similarity = jaccard_similarity(unique_values1, unique_values2)\n",
    "        print(f\"The similarity between {col} and {col2} is: {similarity:.2f}\")\n"
   ]
  },
  {
   "cell_type": "markdown",
   "id": "57f3c35c-a4be-4e82-839f-2295b3d91138",
   "metadata": {},
   "source": [
    "# Look at the wharf coefficent between two columns"
   ]
  },
  {
   "cell_type": "code",
   "execution_count": 32,
   "id": "7bb2848a-3df2-4fb4-882b-f8ace32d9fad",
   "metadata": {},
   "outputs": [
    {
     "name": "stdout",
     "output_type": "stream",
     "text": [
      "  Col1     Col2  counts\n",
      "0    A  Charlie       2\n",
      "1    B      Eve       2\n",
      "2    C    Grace       1\n"
     ]
    },
    {
     "data": {
      "text/plain": [
       "1.0"
      ]
     },
     "execution_count": 32,
     "metadata": {},
     "output_type": "execute_result"
    }
   ],
   "source": [
    "\n",
    "\n",
    "df3 = pd.read_csv('datasets/test_relation2.csv')\n",
    "\n",
    "counts = df3.groupby(['Col1', 'Col2']).size().reset_index(name='counts')\n",
    "\n",
    "print(counts.head())\n",
    "\n",
    "max_counts = counts.loc[counts.groupby('Col1')['counts'].idxmax()]\n",
    "\n",
    "max_counts.head()\n",
    "\n",
    "w = max_counts['counts'].sum()/df3.shape[0]\n",
    "\n",
    "w"
   ]
  },
  {
   "cell_type": "code",
   "execution_count": 33,
   "id": "d9a416e2-a942-487e-afd6-452bd736783f",
   "metadata": {},
   "outputs": [
    {
     "name": "stdout",
     "output_type": "stream",
     "text": [
      "  Col1     Col2  counts\n",
      "0    A  Charlie       2\n",
      "1    B  Charlie       1\n",
      "2    B      Eve       2\n",
      "3    C    Grace       1\n"
     ]
    },
    {
     "data": {
      "text/plain": [
       "0.8333333333333334"
      ]
     },
     "execution_count": 33,
     "metadata": {},
     "output_type": "execute_result"
    }
   ],
   "source": [
    "df3 = pd.read_csv('datasets/test_relation.csv')\n",
    "\n",
    "counts = df3.groupby(['Col1', 'Col2']).size().reset_index(name='counts')\n",
    "\n",
    "print(counts.head())\n",
    "\n",
    "max_counts = counts.loc[counts.groupby('Col1')['counts'].idxmax()]\n",
    "\n",
    "max_counts.head()\n",
    "\n",
    "w = max_counts['counts'].sum()/df3.shape[0]\n",
    "\n",
    "w"
   ]
  },
  {
   "cell_type": "code",
   "execution_count": null,
   "id": "a443059b-de6d-49d7-a107-05bb768e3e80",
   "metadata": {},
   "outputs": [],
   "source": []
  },
  {
   "cell_type": "code",
   "execution_count": null,
   "id": "b66683f7-cf10-4fb3-b2bf-d269f80c16d9",
   "metadata": {},
   "outputs": [],
   "source": []
  },
  {
   "cell_type": "code",
   "execution_count": 34,
   "id": "29145448-392b-45e0-87fc-df44abba260a",
   "metadata": {},
   "outputs": [
    {
     "data": {
      "text/html": [
       "<div>\n",
       "<style scoped>\n",
       "    .dataframe tbody tr th:only-of-type {\n",
       "        vertical-align: middle;\n",
       "    }\n",
       "\n",
       "    .dataframe tbody tr th {\n",
       "        vertical-align: top;\n",
       "    }\n",
       "\n",
       "    .dataframe thead th {\n",
       "        text-align: right;\n",
       "    }\n",
       "</style>\n",
       "<table border=\"1\" class=\"dataframe\">\n",
       "  <thead>\n",
       "    <tr style=\"text-align: right;\">\n",
       "      <th></th>\n",
       "      <th>firstName</th>\n",
       "      <th>lastName</th>\n",
       "      <th>fullName</th>\n",
       "      <th>email</th>\n",
       "      <th>company</th>\n",
       "      <th>city</th>\n",
       "      <th>state</th>\n",
       "      <th>jobTitle</th>\n",
       "      <th>phoneNumber</th>\n",
       "    </tr>\n",
       "  </thead>\n",
       "  <tbody>\n",
       "    <tr>\n",
       "      <th>0</th>\n",
       "      <td>Antonio</td>\n",
       "      <td>Abshire</td>\n",
       "      <td>Antonio Abshire</td>\n",
       "      <td>Antonio_Abshire64@yahoo.com</td>\n",
       "      <td>O'Hara LLC</td>\n",
       "      <td>Guaynabo</td>\n",
       "      <td>New Hampshire</td>\n",
       "      <td>Legacy Operations Assistant</td>\n",
       "      <td>(256) 437-7325 x50857</td>\n",
       "    </tr>\n",
       "    <tr>\n",
       "      <th>1</th>\n",
       "      <td>Jadyn</td>\n",
       "      <td>O'Reilly</td>\n",
       "      <td>Jadyn O'Reilly</td>\n",
       "      <td>Jadyn_OReilly25@hotmail.com</td>\n",
       "      <td>Koss - Frami</td>\n",
       "      <td>Bechtelarton</td>\n",
       "      <td>Tennessee</td>\n",
       "      <td>Chief Brand Producer</td>\n",
       "      <td>976.661.4443 x632</td>\n",
       "    </tr>\n",
       "    <tr>\n",
       "      <th>2</th>\n",
       "      <td>Cristopher</td>\n",
       "      <td>Cartwright-Kuphal</td>\n",
       "      <td>Cristopher Cartwright-Kuphal</td>\n",
       "      <td>Cristopher.Cartwright-Kuphal@yahoo.com</td>\n",
       "      <td>Rutherford LLC</td>\n",
       "      <td>Hillsboro</td>\n",
       "      <td>California</td>\n",
       "      <td>Dynamic Web Liaison</td>\n",
       "      <td>582.369.8834 x08136</td>\n",
       "    </tr>\n",
       "    <tr>\n",
       "      <th>3</th>\n",
       "      <td>Reuben</td>\n",
       "      <td>Nader</td>\n",
       "      <td>Reuben Nader</td>\n",
       "      <td>Reuben_Nader1@hotmail.com</td>\n",
       "      <td>McGlynn - O'Hara</td>\n",
       "      <td>East Tatumport</td>\n",
       "      <td>Rhode Island</td>\n",
       "      <td>Forward Infrastructure Executive</td>\n",
       "      <td>1-521-678-0269 x445</td>\n",
       "    </tr>\n",
       "    <tr>\n",
       "      <th>4</th>\n",
       "      <td>Bradly</td>\n",
       "      <td>Oberbrunner</td>\n",
       "      <td>Bradly Oberbrunner</td>\n",
       "      <td>Bradly_Oberbrunner@gmail.com</td>\n",
       "      <td>Bernhard - Leannon</td>\n",
       "      <td>La Mesa</td>\n",
       "      <td>Nebraska</td>\n",
       "      <td>Lead Metrics Liaison</td>\n",
       "      <td>(624) 605-7801 x21404</td>\n",
       "    </tr>\n",
       "  </tbody>\n",
       "</table>\n",
       "</div>"
      ],
      "text/plain": [
       "    firstName           lastName                      fullName  \\\n",
       "0     Antonio            Abshire               Antonio Abshire   \n",
       "1       Jadyn           O'Reilly                Jadyn O'Reilly   \n",
       "2  Cristopher  Cartwright-Kuphal  Cristopher Cartwright-Kuphal   \n",
       "3      Reuben              Nader                  Reuben Nader   \n",
       "4      Bradly        Oberbrunner            Bradly Oberbrunner   \n",
       "\n",
       "                                    email             company            city  \\\n",
       "0             Antonio_Abshire64@yahoo.com          O'Hara LLC        Guaynabo   \n",
       "1             Jadyn_OReilly25@hotmail.com        Koss - Frami    Bechtelarton   \n",
       "2  Cristopher.Cartwright-Kuphal@yahoo.com      Rutherford LLC       Hillsboro   \n",
       "3               Reuben_Nader1@hotmail.com    McGlynn - O'Hara  East Tatumport   \n",
       "4            Bradly_Oberbrunner@gmail.com  Bernhard - Leannon         La Mesa   \n",
       "\n",
       "           state                          jobTitle            phoneNumber  \n",
       "0  New Hampshire       Legacy Operations Assistant  (256) 437-7325 x50857  \n",
       "1      Tennessee              Chief Brand Producer      976.661.4443 x632  \n",
       "2     California               Dynamic Web Liaison    582.369.8834 x08136  \n",
       "3   Rhode Island  Forward Infrastructure Executive    1-521-678-0269 x445  \n",
       "4       Nebraska              Lead Metrics Liaison  (624) 605-7801 x21404  "
      ]
     },
     "execution_count": 34,
     "metadata": {},
     "output_type": "execute_result"
    }
   ],
   "source": [
    "df_users = pd.read_csv('datasets/users_202409010008.csv')\n",
    "\n",
    "df_users_join = pd.read_csv('datasets/users_202409010008_joinable_info.csv', nrows=1000)\n",
    "\n",
    "df_users_join.head()"
   ]
  },
  {
   "cell_type": "code",
   "execution_count": 35,
   "id": "fbfdf40e",
   "metadata": {},
   "outputs": [
    {
     "name": "stdout",
     "output_type": "stream",
     "text": [
      "The directional similarity between firstName and firstName is: 1.00\n",
      "The directional similarity between firstName and lastName is: 0.02\n",
      "The directional similarity between firstName and fullName is: 0.00\n",
      "The directional similarity between firstName and email is: 0.00\n",
      "The directional similarity between firstName and company is: 0.00\n",
      "The directional similarity between lastName and firstName is: 0.08\n",
      "The directional similarity between lastName and lastName is: 1.00\n",
      "The directional similarity between lastName and fullName is: 0.00\n",
      "The directional similarity between lastName and email is: 0.00\n",
      "The directional similarity between lastName and company is: 0.00\n",
      "The directional similarity between fullName and firstName is: 0.00\n",
      "The directional similarity between fullName and lastName is: 0.00\n",
      "The directional similarity between fullName and fullName is: 1.00\n",
      "The directional similarity between fullName and email is: 0.00\n",
      "The directional similarity between fullName and company is: 0.00\n",
      "The directional similarity between email and firstName is: 0.00\n",
      "The directional similarity between email and lastName is: 0.00\n",
      "The directional similarity between email and fullName is: 0.00\n",
      "The directional similarity between email and email is: 1.00\n",
      "The directional similarity between email and company is: 0.00\n",
      "The directional similarity between company and firstName is: 0.00\n",
      "The directional similarity between company and lastName is: 0.00\n",
      "The directional similarity between company and fullName is: 0.00\n",
      "The directional similarity between company and email is: 0.00\n",
      "The directional similarity between company and company is: 1.00\n",
      "The directional similarity between city and firstName is: 0.01\n",
      "The directional similarity between city and lastName is: 0.00\n",
      "The directional similarity between city and fullName is: 0.00\n",
      "The directional similarity between city and email is: 0.00\n",
      "The directional similarity between city and company is: 0.00\n",
      "The directional similarity between state and firstName is: 0.08\n",
      "The directional similarity between state and lastName is: 0.00\n",
      "The directional similarity between state and fullName is: 0.00\n",
      "The directional similarity between state and email is: 0.00\n",
      "The directional similarity between state and company is: 0.00\n",
      "The directional similarity between jobTitle and firstName is: 0.00\n",
      "The directional similarity between jobTitle and lastName is: 0.00\n",
      "The directional similarity between jobTitle and fullName is: 0.00\n",
      "The directional similarity between jobTitle and email is: 0.00\n",
      "The directional similarity between jobTitle and company is: 0.00\n",
      "The directional similarity between phoneNumber and firstName is: 0.00\n",
      "The directional similarity between phoneNumber and lastName is: 0.00\n",
      "The directional similarity between phoneNumber and fullName is: 0.00\n",
      "The directional similarity between phoneNumber and email is: 0.00\n",
      "The directional similarity between phoneNumber and company is: 0.00\n"
     ]
    }
   ],
   "source": [
    "for col in df_users_join.columns:\n",
    "    unique_values1 = set(df_users_join[col])\n",
    "    for col2 in df_users.columns:\n",
    "        unique_values2 = set(df_users[col2])\n",
    "\n",
    "        # Calculate and print the similarity between the example sets\n",
    "        similarity = direction_similarity(unique_values1, unique_values2)\n",
    "        print(f\"The directional similarity between {col} and {col2} is: {similarity:.2f}\")"
   ]
  },
  {
   "cell_type": "code",
   "execution_count": 36,
   "id": "e4481092",
   "metadata": {},
   "outputs": [
    {
     "ename": "ValueError",
     "evalue": "could not convert string to float: 'Antonio'",
     "output_type": "error",
     "traceback": [
      "\u001b[1;31m---------------------------------------------------------------------------\u001b[0m",
      "\u001b[1;31mValueError\u001b[0m                                Traceback (most recent call last)",
      "Cell \u001b[1;32mIn[36], line 1\u001b[0m\n\u001b[1;32m----> 1\u001b[0m \u001b[43mdf_users_join\u001b[49m\u001b[38;5;241;43m.\u001b[39;49m\u001b[43mcorr\u001b[49m\u001b[43m(\u001b[49m\u001b[43m)\u001b[49m\n",
      "File \u001b[1;32mc:\\Python310\\lib\\site-packages\\pandas\\core\\frame.py:10054\u001b[0m, in \u001b[0;36mDataFrame.corr\u001b[1;34m(self, method, min_periods, numeric_only)\u001b[0m\n\u001b[0;32m  10052\u001b[0m cols \u001b[38;5;241m=\u001b[39m data\u001b[38;5;241m.\u001b[39mcolumns\n\u001b[0;32m  10053\u001b[0m idx \u001b[38;5;241m=\u001b[39m cols\u001b[38;5;241m.\u001b[39mcopy()\n\u001b[1;32m> 10054\u001b[0m mat \u001b[38;5;241m=\u001b[39m \u001b[43mdata\u001b[49m\u001b[38;5;241;43m.\u001b[39;49m\u001b[43mto_numpy\u001b[49m\u001b[43m(\u001b[49m\u001b[43mdtype\u001b[49m\u001b[38;5;241;43m=\u001b[39;49m\u001b[38;5;28;43mfloat\u001b[39;49m\u001b[43m,\u001b[49m\u001b[43m \u001b[49m\u001b[43mna_value\u001b[49m\u001b[38;5;241;43m=\u001b[39;49m\u001b[43mnp\u001b[49m\u001b[38;5;241;43m.\u001b[39;49m\u001b[43mnan\u001b[49m\u001b[43m,\u001b[49m\u001b[43m \u001b[49m\u001b[43mcopy\u001b[49m\u001b[38;5;241;43m=\u001b[39;49m\u001b[38;5;28;43;01mFalse\u001b[39;49;00m\u001b[43m)\u001b[49m\n\u001b[0;32m  10056\u001b[0m \u001b[38;5;28;01mif\u001b[39;00m method \u001b[38;5;241m==\u001b[39m \u001b[38;5;124m\"\u001b[39m\u001b[38;5;124mpearson\u001b[39m\u001b[38;5;124m\"\u001b[39m:\n\u001b[0;32m  10057\u001b[0m     correl \u001b[38;5;241m=\u001b[39m libalgos\u001b[38;5;241m.\u001b[39mnancorr(mat, minp\u001b[38;5;241m=\u001b[39mmin_periods)\n",
      "File \u001b[1;32mc:\\Python310\\lib\\site-packages\\pandas\\core\\frame.py:1838\u001b[0m, in \u001b[0;36mDataFrame.to_numpy\u001b[1;34m(self, dtype, copy, na_value)\u001b[0m\n\u001b[0;32m   1836\u001b[0m \u001b[38;5;28;01mif\u001b[39;00m dtype \u001b[38;5;129;01mis\u001b[39;00m \u001b[38;5;129;01mnot\u001b[39;00m \u001b[38;5;28;01mNone\u001b[39;00m:\n\u001b[0;32m   1837\u001b[0m     dtype \u001b[38;5;241m=\u001b[39m np\u001b[38;5;241m.\u001b[39mdtype(dtype)\n\u001b[1;32m-> 1838\u001b[0m result \u001b[38;5;241m=\u001b[39m \u001b[38;5;28;43mself\u001b[39;49m\u001b[38;5;241;43m.\u001b[39;49m\u001b[43m_mgr\u001b[49m\u001b[38;5;241;43m.\u001b[39;49m\u001b[43mas_array\u001b[49m\u001b[43m(\u001b[49m\u001b[43mdtype\u001b[49m\u001b[38;5;241;43m=\u001b[39;49m\u001b[43mdtype\u001b[49m\u001b[43m,\u001b[49m\u001b[43m \u001b[49m\u001b[43mcopy\u001b[49m\u001b[38;5;241;43m=\u001b[39;49m\u001b[43mcopy\u001b[49m\u001b[43m,\u001b[49m\u001b[43m \u001b[49m\u001b[43mna_value\u001b[49m\u001b[38;5;241;43m=\u001b[39;49m\u001b[43mna_value\u001b[49m\u001b[43m)\u001b[49m\n\u001b[0;32m   1839\u001b[0m \u001b[38;5;28;01mif\u001b[39;00m result\u001b[38;5;241m.\u001b[39mdtype \u001b[38;5;129;01mis\u001b[39;00m \u001b[38;5;129;01mnot\u001b[39;00m dtype:\n\u001b[0;32m   1840\u001b[0m     result \u001b[38;5;241m=\u001b[39m np\u001b[38;5;241m.\u001b[39marray(result, dtype\u001b[38;5;241m=\u001b[39mdtype, copy\u001b[38;5;241m=\u001b[39m\u001b[38;5;28;01mFalse\u001b[39;00m)\n",
      "File \u001b[1;32mc:\\Python310\\lib\\site-packages\\pandas\\core\\internals\\managers.py:1724\u001b[0m, in \u001b[0;36mBlockManager.as_array\u001b[1;34m(self, dtype, copy, na_value)\u001b[0m\n\u001b[0;32m   1722\u001b[0m     arr \u001b[38;5;241m=\u001b[39m np\u001b[38;5;241m.\u001b[39masarray(blk\u001b[38;5;241m.\u001b[39mget_values())\n\u001b[0;32m   1723\u001b[0m     \u001b[38;5;28;01mif\u001b[39;00m dtype:\n\u001b[1;32m-> 1724\u001b[0m         arr \u001b[38;5;241m=\u001b[39m \u001b[43marr\u001b[49m\u001b[38;5;241;43m.\u001b[39;49m\u001b[43mastype\u001b[49m\u001b[43m(\u001b[49m\u001b[43mdtype\u001b[49m\u001b[43m,\u001b[49m\u001b[43m \u001b[49m\u001b[43mcopy\u001b[49m\u001b[38;5;241;43m=\u001b[39;49m\u001b[38;5;28;43;01mFalse\u001b[39;49;00m\u001b[43m)\u001b[49m\n\u001b[0;32m   1726\u001b[0m \u001b[38;5;28;01mif\u001b[39;00m copy:\n\u001b[0;32m   1727\u001b[0m     arr \u001b[38;5;241m=\u001b[39m arr\u001b[38;5;241m.\u001b[39mcopy()\n",
      "\u001b[1;31mValueError\u001b[0m: could not convert string to float: 'Antonio'"
     ]
    }
   ],
   "source": [
    "df_users_join.corr()"
   ]
  }
 ],
 "metadata": {
  "kernelspec": {
   "display_name": "Python 3 (ipykernel)",
   "language": "python",
   "name": "python3"
  },
  "language_info": {
   "codemirror_mode": {
    "name": "ipython",
    "version": 3
   },
   "file_extension": ".py",
   "mimetype": "text/x-python",
   "name": "python",
   "nbconvert_exporter": "python",
   "pygments_lexer": "ipython3",
   "version": "3.10.0"
  }
 },
 "nbformat": 4,
 "nbformat_minor": 5
}
